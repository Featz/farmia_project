{
 "cells": [
  {
   "cell_type": "code",
   "execution_count": 0,
   "metadata": {
    "application/vnd.databricks.v1+cell": {
     "cellMetadata": {
      "byteLimit": 2048000,
      "rowLimit": 10000
     },
     "inputWidgets": {},
     "nuid": "6c877ce7-a53e-461a-a14e-58087dc410d8",
     "showTitle": false,
     "tableResultSettingsMap": {},
     "title": ""
    }
   },
   "outputs": [],
   "source": [
    "# Landing -> Raw\n",
    "\n",
    "\n",
    "\n",
    "# Importar la función orquestadora desde el paquete instalado\n",
    "from farmia_engine.main_orchestrators import execute_landing_to_raw, execute_raw_to_bronze\n",
    "import traceback # Importar para un mejor log de errores\n",
    "\n",
    "# Opcional: si farmia_ingest_config.json no está en la ruta default esperada por utils.py para DBFS\n",
    "# config_dbfs_path = \"/dbfs/FileStore/configs/farmia_ingest_config.json\"\n",
    "config_dbfs_path = None # Usará el default de utils.py\n",
    "\n",
    "print(\"INFO: Iniciando pipeline Landing -> Raw en Databricks...\")\n",
    "final_status_message = \"\"\n",
    "success = False\n",
    "\n",
    "try:\n",
    "    execute_landing_to_raw(config_path_override=config_dbfs_path)\n",
    "    print(\"INFO: Pipeline Landing -> Raw completado exitosamente.\")\n",
    "    final_status_message = \"SUCCESS - Landing to Raw\"\n",
    "    success = True\n",
    "except Exception as e:\n",
    "    print(f\"ERROR durante el pipeline Landing -> Raw: {str(e)}\")\n",
    "    # Obtener el traceback completo para un diagnóstico más detallado\n",
    "    detailed_error = traceback.format_exc()\n",
    "    print(detailed_error)\n",
    "    final_status_message = f\"FAILURE - Landing to Raw: {str(e)}\\n\\nTraceback:\\n{detailed_error}\"\n",
    "    success = False\n",
    "finally:\n",
    "    if not final_status_message: # Fallback por si algo muy extraño ocurre\n",
    "        final_status_message = \"FAILURE - Landing to Raw: Estado final desconocido o ejecución interrumpida.\"\n",
    "        success = False\n",
    "    \n",
    "    print(f\"INFO: Mensaje de salida final del notebook: {final_status_message}\")\n",
    "    if success:\n",
    "        dbutils.notebook.exit(final_status_message)\n",
    "    else:\n",
    "        # Cuando se usa dbutils.notebook.exit con un string que NO comienza con \"SUCCESS\", \n",
    "        # el job se marca como fallido y el string es el mensaje de error.\n",
    "        dbutils.notebook.exit(final_status_message)"
   ]
  },
  {
   "cell_type": "code",
   "execution_count": 0,
   "metadata": {
    "application/vnd.databricks.v1+cell": {
     "cellMetadata": {
      "byteLimit": 2048000,
      "implicitDf": true,
      "rowLimit": 10000
     },
     "inputWidgets": {},
     "nuid": "dff9194a-a2bb-49a3-be45-c8bb4723b629",
     "showTitle": false,
     "tableResultSettingsMap": {},
     "title": ""
    }
   },
   "outputs": [
    {
     "output_type": "display_data",
     "data": {
      "text/html": [
       "<style scoped>\n",
       "  .table-result-container {\n",
       "    max-height: 300px;\n",
       "    overflow: auto;\n",
       "  }\n",
       "  table, th, td {\n",
       "    border: 1px solid black;\n",
       "    border-collapse: collapse;\n",
       "  }\n",
       "  th, td {\n",
       "    padding: 5px;\n",
       "  }\n",
       "  th {\n",
       "    text-align: left;\n",
       "  }\n",
       "</style><div class='table-result-container'><table class='table-result'><thead style='background-color: white'><tr></tr></thead><tbody></tbody></table></div>"
      ]
     },
     "metadata": {
      "application/vnd.databricks.v1+output": {
       "addedWidgets": {},
       "aggData": [],
       "aggError": "",
       "aggOverflow": false,
       "aggSchema": [],
       "aggSeriesLimitReached": false,
       "aggType": "",
       "arguments": {},
       "columnCustomDisplayInfos": {},
       "data": [],
       "datasetInfos": [],
       "dbfsResultPath": null,
       "isJsonSchema": true,
       "metadata": {
        "dataframeName": null
       },
       "overflow": false,
       "plotOptions": {
        "customPlotOptions": {},
        "displayType": "table",
        "pivotAggregation": null,
        "pivotColumns": null,
        "xColumns": null,
        "yColumns": null
       },
       "removedWidgets": [],
       "schema": [],
       "type": "table"
      }
     },
     "output_type": "display_data"
    }
   ],
   "source": [
    "%sql\n",
    "DROP TABLE IF EXISTS farmia_bronze.sales_online_orders;"
   ]
  },
  {
   "cell_type": "code",
   "execution_count": 0,
   "metadata": {
    "application/vnd.databricks.v1+cell": {
     "cellMetadata": {
      "byteLimit": 2048000,
      "rowLimit": 10000
     },
     "inputWidgets": {},
     "nuid": "7cab62ff-8d95-455a-838a-0e9b865b1635",
     "showTitle": false,
     "tableResultSettingsMap": {},
     "title": ""
    }
   },
   "outputs": [],
   "source": [
    "print(\"INFO: Iniciando pipeline Raw -> Bronze en Databricks...\")\n",
    "final_status_message = \"\"\n",
    "success = False\n",
    "\n",
    "try:\n",
    "    execute_raw_to_bronze(config_path_override=config_dbfs_path)\n",
    "    print(\"INFO: Pipeline Raw -> Bronze completado exitosamente.\")\n",
    "    final_status_message = \"SUCCESS - Landing to Raw\"\n",
    "    success = True\n",
    "except Exception as e:\n",
    "    print(f\"ERROR durante el pipeline Landing -> Raw: {str(e)}\")\n",
    "    # Obtener el traceback completo para un diagnóstico más detallado\n",
    "    detailed_error = traceback.format_exc()\n",
    "    print(detailed_error)\n",
    "    final_status_message = f\"FAILURE - Raw to Bronze: {str(e)}\\n\\nTraceback:\\n{detailed_error}\"\n",
    "    success = False\n",
    "finally:\n",
    "    if not final_status_message: # Fallback por si algo muy extraño ocurre\n",
    "        final_status_message = \"FAILURE - Raw to Bronze: Estado final desconocido o ejecución interrumpida.\"\n",
    "        success = False\n",
    "    \n",
    "    print(f\"INFO: Mensaje de salida final del notebook: {final_status_message}\")\n",
    "    if success:\n",
    "        dbutils.notebook.exit(final_status_message)\n",
    "    else:\n",
    "        # Cuando se usa dbutils.notebook.exit con un string que NO comienza con \"SUCCESS\", \n",
    "        # el job se marca como fallido y el string es el mensaje de error.\n",
    "        dbutils.notebook.exit(final_status_message)"
   ]
  }
 ],
 "metadata": {
  "application/vnd.databricks.v1+notebook": {
   "computePreferences": null,
   "dashboards": [],
   "environmentMetadata": {
    "base_environment": "",
    "environment_version": "2"
   },
   "inputWidgetPreferences": null,
   "language": "python",
   "notebookMetadata": {
    "mostRecentlyExecutedCommandWithImplicitDF": {
     "commandId": 7155413793922938,
     "dataframes": [
      "_sqldf"
     ]
    },
    "pythonIndentUnit": 4
   },
   "notebookName": "prueba_farmia_engine",
   "widgets": {}
  },
  "language_info": {
   "name": "python"
  }
 },
 "nbformat": 4,
 "nbformat_minor": 0
}